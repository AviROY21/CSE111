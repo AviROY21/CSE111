{
 "cells": [
  {
   "cell_type": "code",
   "execution_count": 1,
   "metadata": {},
   "outputs": [
    {
     "name": "stdout",
     "output_type": "stream",
     "text": [
      "STRING:HOusE\n",
      "HOUSE\n"
     ]
    }
   ],
   "source": [
    "#1\n",
    "str=input('STRING:')\n",
    "number1 = 0\n",
    "number2=0\n",
    "for i in  str:\n",
    "    if 97<=ord(i)<=122:\n",
    "        number1=number1+1\n",
    "    if 65<= ord(i)<=90:\n",
    "        number2=number2+1\n",
    "if number1<number2:\n",
    "    print(str.upper())\n",
    "if number1 >= number2:\n",
    "    print(str.lower())"
   ]
  },
  {
   "cell_type": "code",
   "execution_count": null,
   "metadata": {},
   "outputs": [],
   "source": []
  },
  {
   "cell_type": "code",
   "execution_count": null,
   "metadata": {},
   "outputs": [],
   "source": []
  },
  {
   "cell_type": "code",
   "execution_count": 3,
   "metadata": {},
   "outputs": [
    {
     "name": "stdout",
     "output_type": "stream",
     "text": [
      "STRING:Hello\n",
      "WORD\n"
     ]
    }
   ],
   "source": [
    "#2\n",
    "str=input('STRING:')\n",
    "str1 =str.lower()\n",
    "nmin=0\n",
    "num=0\n",
    "nmax=0\n",
    "for i in str1:\n",
    "    if 97<= ord(i)<=122:\n",
    "        nmin=nmin+1\n",
    "    elif 48<= ord(i)<=57:\n",
    "        num=num+1\n",
    "if nmin >0 and num ==0:\n",
    "    print('WORD')\n",
    "if num>0 and nmin==0:\n",
    "    print('NUMBER')\n",
    "if num>0 and nmin>0:\n",
    "    print('MIXED')"
   ]
  },
  {
   "cell_type": "code",
   "execution_count": 5,
   "metadata": {},
   "outputs": [
    {
     "name": "stdout",
     "output_type": "stream",
     "text": [
      "STRING: baNgladEsh\n",
      "glad"
     ]
    }
   ],
   "source": [
    "str = input('STRING: ')\n",
    "list = []\n",
    "n1 = -1\n",
    "n2 = -1\n",
    "for i in range(0,len(str)):\n",
    "    if ord(str[i])>=65 and ord(str[i])<=90:\n",
    "        if n1== -1:\n",
    "            n1 = i\n",
    "        else:\n",
    "            n2 = i\n",
    "if n2-n1-1==0:\n",
    "    print('Blank')\n",
    "else:\n",
    "    for i in range(n1+1,n2):\n",
    "        print(str[i],end='')"
   ]
  },
  {
   "cell_type": "code",
   "execution_count": 12,
   "metadata": {},
   "outputs": [
    {
     "name": "stdout",
     "output_type": "stream",
     "text": [
      "This book is good too!\n",
      "This book is good too!\n"
     ]
    }
   ],
   "source": [
    "#4\n",
    "sample = input()\n",
    "def CSE_111(sample):\n",
    "    notindex = sample.find('too')\n",
    "    if 'good' in sample[notindex + 3: notindex + 8]:\n",
    "        print(sample.replace('too good', 'excellent'))\n",
    "    else:\n",
    "        print(sample)\n",
    "\n",
    "\n",
    "CSE_111(sample)\n"
   ]
  },
  {
   "cell_type": "code",
   "execution_count": 20,
   "metadata": {},
   "outputs": [
    {
     "name": "stdout",
     "output_type": "stream",
     "text": [
      "hrrhr\n"
     ]
    }
   ],
   "source": [
    "#5\n",
    "sample='harry'\n",
    "sample1='hermione'\n",
    "sample2=''\n",
    "for i in sample:\n",
    "    if i in sample1:\n",
    "        sample2=sample2+i\n",
    "for j in sample1:\n",
    "    if j in sample:\n",
    "        sample2=sample2+j\n",
    "if (sample2 ==''):\n",
    "    print('Nothing in common')\n",
    "    \n",
    "elif(sample2 != ''):\n",
    "    print(sample2)"
   ]
  },
  {
   "cell_type": "code",
   "execution_count": 24,
   "metadata": {},
   "outputs": [
    {
     "name": "stdout",
     "output_type": "stream",
     "text": [
      "ENTER:ohMyBR@CU\n",
      "Digit missing\n"
     ]
    }
   ],
   "source": [
    "#6\n",
    "usisPassword= input('ENTER:')\n",
    "lowercaseCount=0\n",
    "uppercaseCount=0\n",
    "digitCount=0\n",
    "specialCount=0\n",
    "special='_,$,#,@'\n",
    "add=''\n",
    "for characters in usisPassword:\n",
    "    if characters.islower()==True:\n",
    "        lowercaseCount += 1\n",
    "    if characters.isupper()==True:\n",
    "        uppercaseCount+=1\n",
    "    if characters.isdigit()==True:\n",
    "        digitCount+=1\n",
    "    if characters in special:\n",
    "        specialCount+=1\n",
    "if lowercaseCount!=0 and uppercaseCount != 0 and digitCount != 0 and specialCount != 0:\n",
    "    print('OK')\n",
    "else:\n",
    "    if lowercaseCount==0:\n",
    "        add+='Lowercase character missing, '\n",
    "    if uppercaseCount==0:\n",
    "        add+='Uppercase character missing, '\n",
    "    if digitCount==0:\n",
    "        add+='Digit missing, '\n",
    "    if specialCount==0:\n",
    "        add+='Special character missing, '\n",
    "    print(add[0:-2])\n",
    "\n",
    "\n",
    "\n",
    "\n",
    "\n",
    "\n",
    "\n"
   ]
  },
  {
   "cell_type": "code",
   "execution_count": 2,
   "metadata": {},
   "outputs": [
    {
     "name": "stdout",
     "output_type": "stream",
     "text": [
      "ELEMENTS:10\n",
      "ELEMENTS:20\n",
      "ELEMENTS:20\n",
      "ELEMENTS:30\n",
      "ELEMENTS:10\n",
      "ELEMENTS:50\n",
      "ELEMENTS:90\n",
      "ELEMENTS:STOP\n",
      "10 - 2 times\n",
      "20 - 2 times\n",
      "30 - 1 times\n",
      "50 - 1 times\n",
      "90 - 1 times\n"
     ]
    }
   ],
   "source": [
    "#7\n",
    "numberlist= []\n",
    "list1= []\n",
    "summation = 0\n",
    "\n",
    "elements = input('ELEMENTS:')\n",
    "while elements != 'STOP':\n",
    "    numberlist.append(elements)\n",
    "    elements=input('ELEMENTS:')\n",
    "for x in numberlist:\n",
    "    if x not in list1:\n",
    "        list1.append(x)\n",
    "for y in list1:\n",
    "    summation=0\n",
    "    for z in numberlist:\n",
    "        if y == z:\n",
    "            summation=summation+1\n",
    "    print(y,\"-\",summation,'times')        "
   ]
  },
  {
   "cell_type": "code",
   "execution_count": 1,
   "metadata": {},
   "outputs": [
    {
     "name": "stdout",
     "output_type": "stream",
     "text": [
      "NUMBER:4\n",
      "ELEMENTS:1,2,3\n",
      "ELEMENTS:4,5,6\n",
      "ELEMENTS:10,11,12\n",
      "ELEMENTS:7,8,9\n",
      "33\n",
      "['10', '11', '12']\n"
     ]
    }
   ],
   "source": [
    "#8\n",
    "number=int(input('NUMBER:'))\n",
    "list0=[]\n",
    "max1=0\n",
    "for x in range(0,number):\n",
    "    list1=input('ELEMENTS:').split(',')\n",
    "    summation=0\n",
    "    for y in list1:\n",
    "        summation=summation+int(y)\n",
    "        if summation>max1:\n",
    "            list0=list1.copy()\n",
    "            max1=summation\n",
    "print(max1)\n",
    "print(list0)"
   ]
  },
  {
   "cell_type": "code",
   "execution_count": null,
   "metadata": {},
   "outputs": [],
   "source": [
    "#DICTIONARY &TUPLE\n",
    "#3\n",
    "\n",
    "userInput1=input('Dictionary:').split(',')\n",
    "userInput2=input('Dictionary:').split(',')\n",
    "dict0={}\n",
    "for i in userInput1:\n",
    "    if i!= ' ':\n",
    "        item=i.split(':')\n",
    "        dict0[item[0]]=int(item[1])\n",
    "\n",
    "dict1={}\n",
    "for i in userInput2:\n",
    "    if i  != ' ':\n",
    "        item=i.split(':')\n",
    "        dict1[item[0]]=int(item[1])\n",
    "\n",
    "dict2 = {}\n",
    "for key,value in dict0.items():\n",
    "    for key1,value1 in dict1.items():\n",
    "        if key == key1:\n",
    "            summation=value+value1\n",
    "            dict2[key]=summation\n",
    "dict0.update(dict1)\n",
    "dict0.update(dict2)\n",
    "list1=[]\n",
    "for value2 in dict0.values():\n",
    "    list1.append(value2)\n",
    "\n",
    "list2=[]\n",
    "for value3 in list1:\n",
    "    if value3 not in list2:\n",
    "        list2.append(value3)\n",
    "\n",
    "list2.sort()\n",
    "print(dict0)\n",
    "tuple0=tuple(list2)\n",
    "print('values:',tuple0)\n"
   ]
  },
  {
   "cell_type": "code",
   "execution_count": null,
   "metadata": {},
   "outputs": [],
   "source": [
    "#17\n",
    "\n",
    "\n",
    "button = {\n",
    "['1'|'.',',','?','!',':'],\n",
    "['2'|'a','b','c'],\n",
    "['3'|'d','e','f'],\n",
    "['4'|'g','h','i'],\n",
    "['5'|'j','k','l'],\n",
    "['6'|'m','n','o'],\n",
    "['7'|'p','q','r','s'],\n",
    "['8'|'t','u','v'],\n",
    "['9'|'w','x','y','z'],\n",
    "['0'|' ']\n",
    "}\n",
    "input0 =input(\"Enter input:\").lower()\n",
    "for x in input0:\n",
    "    for key,value in button.items():\n",
    "        if x in value:\n",
    "            for y in range(value.index(x)+1):\n",
    "                print(key,end=\"\")"
   ]
  }
 ],
 "metadata": {
  "kernelspec": {
   "display_name": "Python 3",
   "language": "python",
   "name": "python3"
  },
  "language_info": {
   "codemirror_mode": {
    "name": "ipython",
    "version": 3
   },
   "file_extension": ".py",
   "mimetype": "text/x-python",
   "name": "python",
   "nbconvert_exporter": "python",
   "pygments_lexer": "ipython3",
   "version": "3.7.6"
  }
 },
 "nbformat": 4,
 "nbformat_minor": 4
}
