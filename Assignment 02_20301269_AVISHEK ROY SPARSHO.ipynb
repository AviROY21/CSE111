{
 "cells": [
  {
   "cell_type": "code",
   "execution_count": 1,
   "metadata": {},
   "outputs": [
    {
     "name": "stdout",
     "output_type": "stream",
     "text": [
      "NUM1-5\n",
      "NUM2-2\n",
      "0.5\n"
     ]
    }
   ],
   "source": [
    "#TASK1\n",
    "x=int(input('NUM1-'))\n",
    "y=int(input('NUM2-'))\n",
    "def divide(a,b):\n",
    "    if(a==0 or b ==0):\n",
    "        return 0\n",
    "    else:\n",
    "        return(x%y/y)\n",
    "\n",
    "print(divide(x,y))"
   ]
  },
  {
   "cell_type": "code",
   "execution_count": 2,
   "metadata": {},
   "outputs": [
    {
     "name": "stdout",
     "output_type": "stream",
     "text": [
      "HEight-175\n",
      "Weight-96\n",
      "Score is 31.3 You are Obese\n"
     ]
    }
   ],
   "source": [
    "#TASK2\n",
    "def BMI(height, weight):\n",
    "    height = height / 100\n",
    "    a = weight / height ** 2\n",
    "    b = 0\n",
    "    if a < 18.5:\n",
    "        print(\"Score is\", '%.1f' % a, 'You are Underweight')\n",
    "    elif (a >= 18.5 and a <= 24.9):\n",
    "        print(\"Score is\", '%.1f' % a, 'You are Normal')\n",
    "    elif (b >= 25 and a <= 30):\n",
    "        print(\"Score is\", '%.1f' % a, 'You are Overrweight')\n",
    "    elif a > 30:\n",
    "        print(\"Score is\", '%.1f' % a, 'You are Obese')\n",
    "x=int(input('HEight-'))\n",
    "y=int(input('Weight-'))\n",
    "BMI(x,y)"
   ]
  },
  {
   "cell_type": "code",
   "execution_count": 3,
   "metadata": {},
   "outputs": [
    {
     "name": "stdout",
     "output_type": "stream",
     "text": [
      "NUM1-0\n",
      "NUM2-10\n",
      "NUM3-2\n",
      "20\n"
     ]
    }
   ],
   "source": [
    "#TASK3\n",
    "max=int(input('NUM1-'))\n",
    "min=int(input('NUM2-'))\n",
    "divisor=int(input('NUM3-'))\n",
    "def myFunction(max,min,divisor):\n",
    "    total=0\n",
    "    for x in range(max,min,1):\n",
    "        if(x%divisor==0):\n",
    "            total +=x\n",
    "    return total\n",
    "print(myFunction(max,min,divisor))"
   ]
  },
  {
   "cell_type": "code",
   "execution_count": 4,
   "metadata": {},
   "outputs": [
    {
     "name": "stdout",
     "output_type": "stream",
     "text": [
      "Beef Burger\n",
      "243.6\n"
     ]
    }
   ],
   "source": [
    "#TASK4\n",
    "def myFunction(m, location='Mohakhali'):\n",
    "  dict={'BBQ Chicken Cheese Burger':250,'Naga Drums':200,'Beef Burger':170 }\n",
    "  total=0\n",
    "  total =total+dict[m]\n",
    "\n",
    "  tax=.08* total\n",
    "\n",
    "  if location==\"Mohakhali\":\n",
    "    count =total + 40 + tax\n",
    "  else:\n",
    "    count=total + 60 + tax\n",
    "  return count\n",
    "\n",
    "print(myFunction(input(),'Dhanmondi'))\n",
    "\n"
   ]
  },
  {
   "cell_type": "code",
   "execution_count": 6,
   "metadata": {},
   "outputs": [
    {
     "name": "stdout",
     "output_type": "stream",
     "text": [
      "Changed: alice@sheba.xyz\n"
     ]
    }
   ],
   "source": [
    "#TASK5\n",
    "def replaceDomain(email,newD,oldD='sheba.xyz'):\n",
    "  if newD != oldD:\n",
    "    a= email.split('@')\n",
    "    a[-1]=newD\n",
    "    a=a[0]+'@'+a[1]\n",
    "    print('Changed:',a)\n",
    "  elif newD == oldD:\n",
    "    print('Unchanged:',email)\n",
    "\n",
    "\n",
    "replaceDomain('alice@kaaj.com','sheba.xyz','kaaj.com')\n",
    "\n"
   ]
  },
  {
   "cell_type": "code",
   "execution_count": 7,
   "metadata": {},
   "outputs": [
    {
     "name": "stdout",
     "output_type": "stream",
     "text": [
      "Vowels: e,e,o Total number of vowels: 3\n"
     ]
    }
   ],
   "source": [
    "#TASK6\n",
    "def myFunction(name):\n",
    "  vowel=['a','e','i','u','o']\n",
    "  vowel1=''\n",
    "  sum=0\n",
    "  for i in name:\n",
    "    if i in vowel:\n",
    "      sum+=1\n",
    "      if len(vowel1)==0:\n",
    "        vowel1=vowel1+i\n",
    "      else:\n",
    "        vowel1=vowel1+\",\"+i\n",
    "\n",
    "  if sum==0:\n",
    "    print(\"No vowels in the name\")\n",
    "  elif sum>0:\n",
    "    print(\"Vowels:\",vowel1+' Total number of vowels: '+str(sum))\n",
    "\n",
    "myFunction('Steve Jobs')"
   ]
  },
  {
   "cell_type": "code",
   "execution_count": 8,
   "metadata": {},
   "outputs": [
    {
     "name": "stdout",
     "output_type": "stream",
     "text": [
      "Not a palindrome\n"
     ]
    }
   ],
   "source": [
    "#TASK7\n",
    "def program(string):\n",
    "    reverseX = -1\n",
    "    notPallindrome = False\n",
    "    length = (len(string) // 2)\n",
    "    for x in range(length+1):\n",
    "        if string[x] != string[reverseX]:\n",
    "            notPallindrome = True\n",
    "            break\n",
    "        reverseX= reverseX - 1\n",
    "    if notPallindrome == True:\n",
    "        print('Not a palindrome')\n",
    "    else:\n",
    "        print('Palindrome')\n",
    "program('hello')"
   ]
  },
  {
   "cell_type": "code",
   "execution_count": 9,
   "metadata": {},
   "outputs": [
    {
     "name": "stdout",
     "output_type": "stream",
     "text": [
      "11 years, 10 months  and 5 days\n"
     ]
    }
   ],
   "source": [
    "#TASK8\n",
    "def myFunction(Number):\n",
    "    year=Number//365\n",
    "    Number = Number % 365\n",
    "    month=Number//30\n",
    "    day=Number%30\n",
    "    print(year,'years,',month,'months','', 'and',day,'days')\n",
    "\n",
    "myFunction(4320)"
   ]
  },
  {
   "cell_type": "code",
   "execution_count": 10,
   "metadata": {},
   "outputs": [
    {
     "name": "stdout",
     "output_type": "stream",
     "text": [
      "My favourite animal is a dog. A dog has sharp teeth so that it can eat flesh very easily. Do you know my pet dog’s name? I love my pet very much.\n"
     ]
    }
   ],
   "source": [
    "#TASK9\n",
    "def myFUnction(string):\n",
    "    newString = ''\n",
    "    newword = string[0].upper()\n",
    "    newString += newword\n",
    "    for x in range(1,len(string)):\n",
    "        if ( string[x - 2] == '.' or string[x - 2] == '!' or string[x - 2] == '?' ) and string[x-1] == ' ':\n",
    "            word = string[x].upper()\n",
    "            newString += word\n",
    "        elif string[x] == 'i' and string[x- 1] == ' ' and string[x+ 1] == ' ':\n",
    "            word = string[x].upper()\n",
    "            newString += word\n",
    "        else:\n",
    "            newString += string[x]\n",
    "\n",
    "    return newString\n",
    "\n",
    "\n",
    "print(myFUnction('my favourite animal is a dog. a dog has sharp teeth so that it can eat flesh very easily. do you know my pet dog’s name? i love my pet very much.'))"
   ]
  }
 ],
 "metadata": {
  "kernelspec": {
   "display_name": "Python 3",
   "language": "python",
   "name": "python3"
  },
  "language_info": {
   "codemirror_mode": {
    "name": "ipython",
    "version": 3
   },
   "file_extension": ".py",
   "mimetype": "text/x-python",
   "name": "python",
   "nbconvert_exporter": "python",
   "pygments_lexer": "ipython3",
   "version": "3.7.6"
  }
 },
 "nbformat": 4,
 "nbformat_minor": 4
}
